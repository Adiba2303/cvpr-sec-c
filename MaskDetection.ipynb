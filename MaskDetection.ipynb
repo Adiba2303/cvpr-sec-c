import cv2
import joblib
import numpy as np
import matplotlib.pyplot as plt
from tensorflow.keras.models import load_model
model = load_model('D:/Documents/CVPR/Resources/face_mask/Models/AlexNetOnFaceMask.h5', compile = True)
joblib_in = open("D:/Documents/CVPR/Resources/face_mask/X_train.joblib","rb")
X_train = joblib.load(joblib_in)
mean_img = np.mean(X_train, axis=0)
print(mean_img.shape)
labels_dict={0:'without mask',1:'mask'}
webcam = cv2.VideoCapture(0) #Use camera 0

while True:
    (rval, im) = webcam.read()
    im=cv2.flip(im,1,1) #Flip to act as a mirror
    try:
        resized=cv2.resize(im,(64,64))
    except:
        break
    #norm = resized-mean_img
    #reshaped=np.reshape(norm,(1,64,64,3))
    reshaped=np.reshape(resized,(1,64,64,3))
    mr=np.reshape(mean_img,(1,64,64,3))
    norm = reshaped - mr
    result=model.predict(norm)
    label=np.argmax(result,axis=1)[0]
    cv2.putText(im, labels_dict[label], (20, 60),cv2.FONT_HERSHEY_SIMPLEX,0.8,(255,255,255),2)
        
    # Show the image
    cv2.imshow('LIVE',   im)
    key = cv2.waitKey(10)
    # if Esc key is press then break out of the loop 
    if key == 27: #The Esc key
        break
# Stop video
webcam.release()

# Close all started windows
cv2.destroyAllWindows()
